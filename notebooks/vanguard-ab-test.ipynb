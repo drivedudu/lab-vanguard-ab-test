{
 "cells": [
  {
   "cell_type": "markdown",
   "id": "a2f3fa2d",
   "metadata": {},
   "source": []
  },
  {
   "cell_type": "code",
   "execution_count": 1,
   "id": "7300fd42",
   "metadata": {},
   "outputs": [
    {
     "name": "stderr",
     "output_type": "stream",
     "text": [
      "c:\\Users\\Lymaris\\ih-labs\\lab-vanguard-ab-test\\data_cleaning.py:70: UserWarning: Parsing dates in %Y-%m-%d %H:%M:%S format when dayfirst=True was specified. Pass `dayfirst=False` or specify a format to silence this warning.\n",
      "  df_webfull['date_time'] = pd.to_datetime(df_webfull['date_time'], dayfirst=True)\n",
      "c:\\Users\\Lymaris\\ih-labs\\lab-vanguard-ab-test\\data_cleaning.py:80: SettingWithCopyWarning: \n",
      "A value is trying to be set on a copy of a slice from a DataFrame.\n",
      "Try using .loc[row_indexer,col_indexer] = value instead\n",
      "\n",
      "See the caveats in the documentation: https://pandas.pydata.org/pandas-docs/stable/user_guide/indexing.html#returning-a-view-versus-a-copy\n",
      "  df_webfullfilter['experiment'] = df_webfullfilter['client_id'].map(map_categoria)\n"
     ]
    }
   ],
   "source": [
    "import pandas as pd\n",
    "import numpy as np\n",
    "\n",
    "import scipy.stats as st\n",
    "\n",
    "from data_cleaning import df_webfullfilter, pivot_table, test_group, control_group,t_stat, p_value, alpha, control_total_completion_rate, test_total_completion_rate, map_categoria\n",
    "\n",
    "from statsmodels.stats.proportion import proportions_ztest"
   ]
  },
  {
   "cell_type": "markdown",
   "id": "175202bd",
   "metadata": {},
   "source": [
    "### Hypotese 1\n"
   ]
  },
  {
   "cell_type": "markdown",
   "id": "0a34c8c1",
   "metadata": {},
   "source": [
    "#### Completion Rate "
   ]
  },
  {
   "cell_type": "code",
   "execution_count": 2,
   "id": "8b76245b",
   "metadata": {},
   "outputs": [
    {
     "name": "stdout",
     "output_type": "stream",
     "text": [
      "Control Group Completion Rate: 59.17%\n",
      "Test Group Completion Rate: 65.20%\n"
     ]
    }
   ],
   "source": [
    "print(f\"Control Group Completion Rate: {control_total_completion_rate * 100:.2f}%\")\n",
    "print(f\"Test Group Completion Rate: {test_total_completion_rate * 100:.2f}%\")\n",
    "# print(f\"Z-statistic: {stat:.4f}\")\n",
    "# print(f\"P-value: {pval:.4f}\")\n",
    "\n"
   ]
  },
  {
   "cell_type": "markdown",
   "id": "30ba8552",
   "metadata": {},
   "source": [
    "### Hypotese 2\n"
   ]
  },
  {
   "cell_type": "markdown",
   "id": "13ee5bca",
   "metadata": {},
   "source": [
    "#### Completion Rate with a Cost-Effectiveness Threshold"
   ]
  },
  {
   "cell_type": "code",
   "execution_count": 3,
   "id": "5e7ee63f",
   "metadata": {},
   "outputs": [
    {
     "name": "stdout",
     "output_type": "stream",
     "text": [
      "Control Completion Rate: 59.17%\n",
      "Test Completion Rate: 65.20%\n",
      "Increase Percentage: 10.17%\n"
     ]
    }
   ],
   "source": [
    "# calculating Completion Rate with a Cost-Effectiveness Threshold\n",
    "increase_percentage = ((test_total_completion_rate - control_total_completion_rate) / control_total_completion_rate) * 100\n",
    "\n",
    "print(f\"Control Completion Rate: {control_total_completion_rate * 100:.2f}%\")\n",
    "print(f\"Test Completion Rate: {test_total_completion_rate * 100:.2f}%\")\n",
    "print(f\"Increase Percentage: {increase_percentage:.2f}%\")"
   ]
  },
  {
   "cell_type": "markdown",
   "id": "aa524f7c",
   "metadata": {},
   "source": [
    "### Hypotese 3\n"
   ]
  },
  {
   "cell_type": "code",
   "execution_count": 4,
   "id": "d2398d67",
   "metadata": {},
   "outputs": [
    {
     "name": "stdout",
     "output_type": "stream",
     "text": [
      "Average age of test group: 46.88812666864432\n",
      "Average age of control group: 47.25968893421724\n",
      "Difference of age between two groups: 0.37156226557291916\n"
     ]
    }
   ],
   "source": [
    "# Different method\n",
    "\n",
    "print('Average age of test group:', test_group.mean())\n",
    "print('Average age of control group:',control_group.mean())\n",
    "print('Difference of age between two groups:',control_group.mean() - test_group.mean())"
   ]
  },
  {
   "cell_type": "markdown",
   "id": "6be65ec9",
   "metadata": {},
   "source": [
    "### Metrics\n"
   ]
  },
  {
   "cell_type": "markdown",
   "id": "6fca3000",
   "metadata": {},
   "source": [
    "##### Time spent per page in seconds"
   ]
  },
  {
   "cell_type": "code",
   "execution_count": 5,
   "id": "15d6e251",
   "metadata": {},
   "outputs": [
    {
     "data": {
      "text/html": [
       "<div>\n",
       "<style scoped>\n",
       "    .dataframe tbody tr th:only-of-type {\n",
       "        vertical-align: middle;\n",
       "    }\n",
       "\n",
       "    .dataframe tbody tr th {\n",
       "        vertical-align: top;\n",
       "    }\n",
       "\n",
       "    .dataframe thead th {\n",
       "        text-align: right;\n",
       "    }\n",
       "</style>\n",
       "<table border=\"1\" class=\"dataframe\">\n",
       "  <thead>\n",
       "    <tr style=\"text-align: right;\">\n",
       "      <th></th>\n",
       "      <th>confirm</th>\n",
       "      <th>start</th>\n",
       "      <th>step_1</th>\n",
       "      <th>step_2</th>\n",
       "      <th>step_3</th>\n",
       "    </tr>\n",
       "  </thead>\n",
       "  <tbody>\n",
       "    <tr>\n",
       "      <th>Control</th>\n",
       "      <td>18.156915</td>\n",
       "      <td>50.268099</td>\n",
       "      <td>44.247232</td>\n",
       "      <td>86.435402</td>\n",
       "      <td>122.203019</td>\n",
       "    </tr>\n",
       "    <tr>\n",
       "      <th>Test</th>\n",
       "      <td>38.794996</td>\n",
       "      <td>50.424246</td>\n",
       "      <td>55.574640</td>\n",
       "      <td>84.843619</td>\n",
       "      <td>120.155537</td>\n",
       "    </tr>\n",
       "  </tbody>\n",
       "</table>\n",
       "</div>"
      ],
      "text/plain": [
       "           confirm      start     step_1     step_2      step_3\n",
       "Control  18.156915  50.268099  44.247232  86.435402  122.203019\n",
       "Test     38.794996  50.424246  55.574640  84.843619  120.155537"
      ]
     },
     "execution_count": 5,
     "metadata": {},
     "output_type": "execute_result"
    }
   ],
   "source": [
    "pivot_table"
   ]
  },
  {
   "cell_type": "markdown",
   "id": "0feb1963",
   "metadata": {},
   "source": [
    "##### ERROR RATES"
   ]
  },
  {
   "cell_type": "code",
   "execution_count": 6,
   "id": "40b5670b",
   "metadata": {},
   "outputs": [
    {
     "name": "stdout",
     "output_type": "stream",
     "text": [
      "Erro rates - Control: 6.91 %\n",
      "Erro rates - Test: 9.51 %\n"
     ]
    }
   ],
   "source": [
    "error_rates = df_webfullfilter.groupby('experiment')['error'].mean().reset_index()\n",
    "error_rates.columns = ['experiment', 'error_rate']\n",
    "error_rates['error_rate'] = error_rates['error_rate'].apply(lambda a : a * 100)\n",
    "\n",
    "\n",
    "print(f\"Erro rates - Control: {error_rates.loc[0,'error_rate']:.2f} %\")\n",
    "print(f\"Erro rates - Test: {error_rates.loc[1,'error_rate']:.2f} %\")\n"
   ]
  },
  {
   "cell_type": "markdown",
   "id": "08136a8d",
   "metadata": {},
   "source": [
    "### Hypothesis Testing"
   ]
  },
  {
   "cell_type": "code",
   "execution_count": 7,
   "id": "fd079371",
   "metadata": {},
   "outputs": [
    {
     "name": "stdout",
     "output_type": "stream",
     "text": [
      "Z-statistic: 14.663372446786198\n",
      "P-value: 1.106383586182923e-48\n"
     ]
    }
   ],
   "source": [
    "### Hypothesis 1 & 2\n",
    "total_visitors_per_group = df_webfullfilter.groupby('experiment')['visitor_id'].nunique()\n",
    "confirm_visitors_per_group = df_webfullfilter[df_webfullfilter['process_step'] == 'confirm'].groupby('experiment')['visitor_id'].nunique()\n",
    "confirmation_rate_per_group = confirm_visitors_per_group / total_visitors_per_group\n",
    "test_confirmation_rate = confirmation_rate_per_group['Test']\n",
    "control_confirmation_rate = confirmation_rate_per_group['Control']\n",
    "n_test = total_visitors_per_group['Test']\n",
    "n_control = total_visitors_per_group['Control']\n",
    "confirm_test = confirm_visitors_per_group['Test']\n",
    "confirm_control = confirm_visitors_per_group['Control']\n",
    "counts = np.array([confirm_test, confirm_control])\n",
    "nobs = np.array([n_test, n_control])\n",
    "\n",
    "\n",
    "#  test z \n",
    "stat, p_v = proportions_ztest(counts, nobs, alternative='two-sided')\n",
    "print(f'Z-statistic: {stat}')\n",
    "print(f'P-value: {p_v}')\n"
   ]
  },
  {
   "cell_type": "code",
   "execution_count": 8,
   "id": "0d468010",
   "metadata": {},
   "outputs": [
    {
     "name": "stdout",
     "output_type": "stream",
     "text": [
      "We reject the null hypothesis. There is a significant difference in the average age of clients between the new process and the old process (p-value = 0.00730).\n",
      "\n",
      "T-test results\n",
      "t-statistic: -2.68272662596058\n",
      "p-value: 0.0073048427495870935\n"
     ]
    }
   ],
   "source": [
    "# Hypothesis statement\n",
    "\n",
    "if p_value < alpha:\n",
    "    result = f\"We reject the null hypothesis. There is a significant difference in the average age of clients between the new process and the old process (p-value = {p_value:.5f}).\"\n",
    "else:\n",
    "    result = f\"We cannot reject the null hypothesis. There is no significant difference in the average age of clients between the new process and the old process (p-value = {p_value:.5f}).\"\n",
    "\n",
    "# Print the results\n",
    "print(result)\n",
    "print(\"\\nT-test results\")\n",
    "print(f\"t-statistic: {t_stat}\")\n",
    "print(f\"p-value: {p_value}\")"
   ]
  }
 ],
 "metadata": {
  "kernelspec": {
   "display_name": "Python 3 (ipykernel)",
   "language": "python",
   "name": "python3"
  },
  "language_info": {
   "codemirror_mode": {
    "name": "ipython",
    "version": 3
   },
   "file_extension": ".py",
   "mimetype": "text/x-python",
   "name": "python",
   "nbconvert_exporter": "python",
   "pygments_lexer": "ipython3",
   "version": "3.11.7"
  }
 },
 "nbformat": 4,
 "nbformat_minor": 5
}
